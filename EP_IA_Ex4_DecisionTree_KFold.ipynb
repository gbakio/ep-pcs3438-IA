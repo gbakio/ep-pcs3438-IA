{
 "cells": [
  {
   "cell_type": "code",
   "execution_count": 1,
   "metadata": {},
   "outputs": [],
   "source": [
    "# EP 1 - PCS3438 - Inteligencia Artificial (2021)\n",
    "# Nome: Gabriel Akio Takano Rigoli\n",
    "# Nusp: 10773422\n",
    "# Exercicio 4 - Decision Tree & KFold (K = 5)\n",
    "# https://scikit-learn.org/stable/modules/cross_validation.html\n",
    "# https://www.ritchieng.com/pandas-scikit-learn/\n",
    "# https://scikit-learn.org/stable/modules/naive_bayes.html"
   ]
  },
  {
   "cell_type": "code",
   "execution_count": 14,
   "metadata": {},
   "outputs": [],
   "source": [
    "from sklearn.tree import DecisionTreeRegressor\n",
    "from sklearn.model_selection import KFold\n",
    "from sklearn.metrics import mean_absolute_error\n",
    "import pandas as pd\n",
    "import numpy as np"
   ]
  },
  {
   "cell_type": "code",
   "execution_count": 15,
   "metadata": {},
   "outputs": [],
   "source": [
    "df_reg02 = pd.read_csv(\"reg02.csv\")\n",
    "mae_train = []\n",
    "mae_test = []"
   ]
  },
  {
   "cell_type": "code",
   "execution_count": 16,
   "metadata": {},
   "outputs": [
    {
     "data": {
      "text/plain": [
       "(1000, 20)"
      ]
     },
     "execution_count": 16,
     "metadata": {},
     "output_type": "execute_result"
    }
   ],
   "source": [
    "X = df_reg02.drop(columns=['target'])\n",
    "X.shape"
   ]
  },
  {
   "cell_type": "code",
   "execution_count": 19,
   "metadata": {},
   "outputs": [
    {
     "data": {
      "text/plain": [
       "(1000,)"
      ]
     },
     "execution_count": 19,
     "metadata": {},
     "output_type": "execute_result"
    }
   ],
   "source": [
    "y = df_reg02.target\n",
    "y.shape"
   ]
  },
  {
   "cell_type": "code",
   "execution_count": 18,
   "metadata": {},
   "outputs": [
    {
     "name": "stdout",
     "output_type": "stream",
     "text": [
      "MAE training set: 0.0\n",
      "MAE validation set: 44.78\n"
     ]
    }
   ],
   "source": [
    "kf = KFold(n_splits=5, shuffle=False)\n",
    "tree = DecisionTreeRegressor()\n",
    "i = 0\n",
    "for train_index, test_index in kf.split(X):\n",
    "    X_train, X_test = X.iloc[train_index], X.iloc[test_index]\n",
    "    y_train, y_test = y.iloc[train_index], y.iloc[test_index]\n",
    "    tree.fit(X_train, y_train)\n",
    "    y_train_pred = tree.predict(X_train)\n",
    "    y_test_pred = tree.predict(X_test)\n",
    "    mae_train.append(mean_absolute_error(y_train_pred, y_train))\n",
    "    mae_test.append(mean_absolute_error(y_test_pred, y_test))\n",
    "mean_mae_train = np.mean(mae_train)\n",
    "mean_mae_test = np.mean(mae_test)\n",
    "print(\"MAE training set: \" + str(round(mean_mae_train, 2)))\n",
    "print(\"MAE validation set: \" + str(round(mean_mae_test, 2)))"
   ]
  },
  {
   "cell_type": "code",
   "execution_count": null,
   "metadata": {},
   "outputs": [],
   "source": []
  }
 ],
 "metadata": {
  "kernelspec": {
   "display_name": "Python 3",
   "language": "python",
   "name": "python3"
  },
  "language_info": {
   "codemirror_mode": {
    "name": "ipython",
    "version": 3
   },
   "file_extension": ".py",
   "mimetype": "text/x-python",
   "name": "python",
   "nbconvert_exporter": "python",
   "pygments_lexer": "ipython3",
   "version": "3.6.8"
  }
 },
 "nbformat": 4,
 "nbformat_minor": 2
}
