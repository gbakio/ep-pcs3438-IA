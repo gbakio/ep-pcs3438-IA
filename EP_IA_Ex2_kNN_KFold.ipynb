{
 "cells": [
  {
   "cell_type": "code",
   "execution_count": 2,
   "metadata": {},
   "outputs": [],
   "source": [
    "# EP 1 - PCS3438 - Inteligencia Artificial (2021)\n",
    "# Nome: Gabriel Akio Takano Rigoli\n",
    "# Nusp: 10773422\n",
    "# Exercicio 2 - K-fold (5 splits) & k-NN (k = 10)\n",
    "# https://scikit-learn.org/stable/modules/cross_validation.html\n",
    "# https://www.ritchieng.com/pandas-scikit-learn/\n",
    "# https://scikit-learn.org/stable/modules/naive_bayes.html"
   ]
  },
  {
   "cell_type": "code",
   "execution_count": 3,
   "metadata": {},
   "outputs": [],
   "source": [
    "from sklearn.neighbors import KNeighborsClassifier\n",
    "from sklearn.model_selection import KFold\n",
    "from sklearn.metrics import accuracy_score\n",
    "import pandas as pd\n",
    "import numpy as np"
   ]
  },
  {
   "cell_type": "code",
   "execution_count": 15,
   "metadata": {},
   "outputs": [],
   "source": [
    "df_class02 = pd.read_csv(\"class02.csv\")\n",
    "accuracys = np.zeros([5,1])"
   ]
  },
  {
   "cell_type": "code",
   "execution_count": 16,
   "metadata": {},
   "outputs": [
    {
     "data": {
      "text/plain": [
       "(1500, 100)"
      ]
     },
     "execution_count": 16,
     "metadata": {},
     "output_type": "execute_result"
    }
   ],
   "source": [
    "X = df_class02.drop(columns=['target'])\n",
    "X.shape"
   ]
  },
  {
   "cell_type": "code",
   "execution_count": 17,
   "metadata": {},
   "outputs": [
    {
     "data": {
      "text/plain": [
       "(1500,)"
      ]
     },
     "execution_count": 17,
     "metadata": {},
     "output_type": "execute_result"
    }
   ],
   "source": [
    "y = df_class02.target\n",
    "y.shape"
   ]
  },
  {
   "cell_type": "code",
   "execution_count": 18,
   "metadata": {},
   "outputs": [
    {
     "name": "stdout",
     "output_type": "stream",
     "text": [
      "Folder 1 accuracy: 84.0%.\n",
      "Folder 2 accuracy: 85.33%.\n",
      "Folder 3 accuracy: 83.67%.\n",
      "Folder 4 accuracy: 82.0%.\n",
      "Folder 5 accuracy: 84.33%.\n",
      "Average validation set accuracy: 83.87%.\n"
     ]
    }
   ],
   "source": [
    "kf = KFold(n_splits=5, shuffle=False)\n",
    "neigh = KNeighborsClassifier(n_neighbors=10)\n",
    "i = 0\n",
    "for train_index, test_index in kf.split(X):\n",
    "    X_train, X_test = X.iloc[train_index], X.iloc[test_index]\n",
    "    y_train, y_test = y.iloc[train_index], y.iloc[test_index]\n",
    "    y_pred = neigh.fit(X_train, y_train).predict(X_test)\n",
    "    accuracy = round(accuracy_score(y_test, y_pred)*100, 2)\n",
    "    accuracys[i] = accuracy\n",
    "    i = i + 1\n",
    "    print(\"Folder \" + str(i) + \" accuracy: \" + str(accuracy) + \"%.\")\n",
    "print(\"Average validation set accuracy: \" + str(round(np.mean(accuracys), 2)) + \"%.\")"
   ]
  },
  {
   "cell_type": "code",
   "execution_count": null,
   "metadata": {},
   "outputs": [],
   "source": []
  },
  {
   "cell_type": "code",
   "execution_count": null,
   "metadata": {},
   "outputs": [],
   "source": []
  }
 ],
 "metadata": {
  "kernelspec": {
   "display_name": "Python 3",
   "language": "python",
   "name": "python3"
  },
  "language_info": {
   "codemirror_mode": {
    "name": "ipython",
    "version": 3
   },
   "file_extension": ".py",
   "mimetype": "text/x-python",
   "name": "python",
   "nbconvert_exporter": "python",
   "pygments_lexer": "ipython3",
   "version": "3.6.8"
  }
 },
 "nbformat": 4,
 "nbformat_minor": 2
}
