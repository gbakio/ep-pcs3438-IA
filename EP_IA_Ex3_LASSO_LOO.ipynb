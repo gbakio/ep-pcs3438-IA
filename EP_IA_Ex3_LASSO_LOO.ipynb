{
 "cells": [
  {
   "cell_type": "code",
   "execution_count": 2,
   "metadata": {},
   "outputs": [],
   "source": [
    "# EP 1 - PCS3438 - Inteligencia Artificial (2021)\n",
    "# Nome: Gabriel Akio Takano Rigoli\n",
    "# Nusp: 10773422\n",
    "# Exercicio 3 - L1 LASSO & LOO\n",
    "# https://scikit-learn.org/stable/modules/cross_validation.html\n",
    "# https://www.ritchieng.com/pandas-scikit-learn/\n",
    "# https://scikit-learn.org/stable/modules/naive_bayes.html"
   ]
  },
  {
   "cell_type": "code",
   "execution_count": 3,
   "metadata": {},
   "outputs": [],
   "source": [
    "from sklearn.linear_model import Lasso\n",
    "from sklearn.model_selection import LeaveOneOut\n",
    "from sklearn.metrics import mean_squared_error\n",
    "import pandas as pd\n",
    "import numpy as np"
   ]
  },
  {
   "cell_type": "code",
   "execution_count": 11,
   "metadata": {},
   "outputs": [],
   "source": [
    "df_reg01 = pd.read_csv(\"reg01.csv\")\n",
    "rmse_train = []\n",
    "rmse_test = []"
   ]
  },
  {
   "cell_type": "code",
   "execution_count": 12,
   "metadata": {},
   "outputs": [
    {
     "data": {
      "text/plain": [
       "(1000, 10)"
      ]
     },
     "execution_count": 12,
     "metadata": {},
     "output_type": "execute_result"
    }
   ],
   "source": [
    "X = df_reg01.drop(columns=['target'])\n",
    "X.shape"
   ]
  },
  {
   "cell_type": "code",
   "execution_count": 23,
   "metadata": {},
   "outputs": [
    {
     "data": {
      "text/plain": [
       "(1000,)"
      ]
     },
     "execution_count": 23,
     "metadata": {},
     "output_type": "execute_result"
    }
   ],
   "source": [
    "y = df_reg01.target\n",
    "y.shape"
   ]
  },
  {
   "cell_type": "code",
   "execution_count": 14,
   "metadata": {},
   "outputs": [
    {
     "data": {
      "text/plain": [
       "1000"
      ]
     },
     "execution_count": 14,
     "metadata": {},
     "output_type": "execute_result"
    }
   ],
   "source": [
    "loo = LeaveOneOut()\n",
    "loo.get_n_splits(X)"
   ]
  },
  {
   "cell_type": "code",
   "execution_count": 25,
   "metadata": {},
   "outputs": [
    {
     "name": "stdout",
     "output_type": "stream",
     "text": [
      "RMSE training set: 19.22\n",
      "RMSE validation set: 15.47\n"
     ]
    }
   ],
   "source": [
    "lasso = Lasso(alpha=1)\n",
    "for train_index, test_index in loo.split(X):\n",
    "    X_train, X_test = X.iloc[train_index], X.iloc[test_index]\n",
    "    y_train, y_test = y.iloc[train_index], y.iloc[test_index]\n",
    "    lasso.fit(X_train, y_train)\n",
    "    y_train_pred = lasso.predict(X_train)\n",
    "    y_test_pred = lasso.predict(X_test)\n",
    "    rmse_train.append(np.sqrt(mean_squared_error(y_train_pred, y_train)))\n",
    "    rmse_test.append(np.sqrt(mean_squared_error(y_test_pred, y_test)))\n",
    "avg_rmse_train = np.mean(rmse_train)\n",
    "avg_rmse_test = np.mean(rmse_test)\n",
    "print(\"RMSE training set: \" + str(round(avg_rmse_train, 2)))\n",
    "print(\"RMSE validation set: \" + str(round(avg_rmse_test, 2)))"
   ]
  },
  {
   "cell_type": "code",
   "execution_count": null,
   "metadata": {},
   "outputs": [],
   "source": []
  }
 ],
 "metadata": {
  "kernelspec": {
   "display_name": "Python 3",
   "language": "python",
   "name": "python3"
  },
  "language_info": {
   "codemirror_mode": {
    "name": "ipython",
    "version": 3
   },
   "file_extension": ".py",
   "mimetype": "text/x-python",
   "name": "python",
   "nbconvert_exporter": "python",
   "pygments_lexer": "ipython3",
   "version": "3.6.8"
  }
 },
 "nbformat": 4,
 "nbformat_minor": 2
}
